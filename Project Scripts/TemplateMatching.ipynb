{
 "cells": [
  {
   "cell_type": "code",
   "execution_count": 50,
   "metadata": {},
   "outputs": [],
   "source": [
    "# import the necessary packages\n",
    "import numpy as np\n",
    "import imutils\n",
    "import cv2\n",
    "\n",
    "# load the image image, convert it to grayscale, and detect edges\n",
    "template = cv2.imread('template.png')\n",
    "#template = imutils.resize(template,width = int(template.shape[1]*0.6))\n",
    "template = cv2.cvtColor(template, cv2.COLOR_BGR2GRAY)\n",
    "template = cv2.Canny(template, 150, 200)\n",
    "(tHeight, tWidth) = template.shape[:2]\n",
    "cv2.imshow(\"Template\", template)\n",
    "\n",
    "# loop over the images to find the template in\n",
    "image = cv2.imread('image.png')\n",
    "gray = cv2.cvtColor(image, cv2.COLOR_BGR2GRAY)\n",
    "found = None\n",
    "# loop over the scales of the image\n",
    "for scale in np.linspace(0.2, 1.0, 20)[::-1]:\n",
    "    # resize the image according to the scale, and keep track\n",
    "    # of the ratio of the resizing\n",
    "    resized = imutils.resize(gray, width = int(gray.shape[1] * scale))\n",
    "    r = gray.shape[1] / float(resized.shape[1])\n",
    "    # if the resized image is smaller than the template, then break\n",
    "    # from the loop\n",
    "    if resized.shape[0] < tHeight or resized.shape[1] < tWidth:\n",
    "        break\n",
    "        # detect edges in the resized, grayscale image and apply template\n",
    "    # matching to find the template in the image\n",
    "    edged = cv2.Canny(resized, 150, 200)\n",
    "    result = cv2.matchTemplate(edged, template, cv2.TM_CCOEFF)\n",
    "    (_, maxVal, _, maxLoc) = cv2.minMaxLoc(result)\n",
    "    clone = np.dstack([edged, edged, edged])\n",
    "    cv2.rectangle(clone, (maxLoc[0], maxLoc[1]), (maxLoc[0] + tWidth, maxLoc[1] + tHeight), (0, 0, 255), 2)\n",
    "    cv2.imshow(\"Visualize\", clone)\n",
    "    cv2.waitKey(0)\n",
    "    # if we have found a new maximum correlation value, then update\n",
    "    # the bookkeeping variable\n",
    "    if found is None or maxVal > found[0]:\n",
    "        found = (maxVal, maxLoc, r)\n",
    "# unpack the bookkeeping variable and compute the (x, y) coordinates\n",
    "# of the bounding box based on the resized ratio\n",
    "(_, maxLoc, r) = found\n",
    "(startX, startY) = (int(maxLoc[0] * r), int(maxLoc[1] * r))\n",
    "(endX, endY) = (int((maxLoc[0] + tWidth) * r), int((maxLoc[1] + tHeight) * r))\n",
    "# draw a bounding box around the detected result and display the image\n",
    "cv2.rectangle(image, (startX, startY), (endX, endY), (0, 0, 255), 2)\n",
    "cv2.imshow(\"Image\", image)\n",
    "cv2.waitKey(0)\n",
    "cv2.destroyAllWindows()"
   ]
  },
  {
   "cell_type": "code",
   "execution_count": null,
   "metadata": {},
   "outputs": [],
   "source": []
  }
 ],
 "metadata": {
  "kernelspec": {
   "display_name": "Python 3",
   "language": "python",
   "name": "python3"
  },
  "language_info": {
   "codemirror_mode": {
    "name": "ipython",
    "version": 3
   },
   "file_extension": ".py",
   "mimetype": "text/x-python",
   "name": "python",
   "nbconvert_exporter": "python",
   "pygments_lexer": "ipython3",
   "version": "3.6.8"
  }
 },
 "nbformat": 4,
 "nbformat_minor": 4
}
